{
 "cells": [
  {
   "cell_type": "code",
   "execution_count": 14,
   "id": "7105c7f8",
   "metadata": {},
   "outputs": [],
   "source": [
    "import json"
   ]
  },
  {
   "cell_type": "code",
   "execution_count": 17,
   "id": "36cd7a2c",
   "metadata": {},
   "outputs": [],
   "source": [
    "\"\"\"将xBD数据集中的label转为mask\"\"\"\n",
    "\n",
    "label_path = \"/data5/tangyinzhou/geotiffs/test/labels/guatemala-volcano_00000003_post_disaster.json\"\n",
    "with open(label_path, \"r\") as f:\n",
    "    label = json.load(f)\n",
    "save_path = \"/data5/tangyinzhou/testbed_test/labels/guatemala-volcano_00000003_post_disaster.png\""
   ]
  },
  {
   "cell_type": "code",
   "execution_count": 18,
   "id": "d944a20e",
   "metadata": {},
   "outputs": [],
   "source": [
    "import numpy as np\n",
    "import re\n",
    "from PIL import Image, ImageDraw\n",
    "\n",
    "# 创建一个 1024x1024 的黑色背景图像\n",
    "image = Image.new('L', (1024, 1024), 0)\n",
    "draw = ImageDraw.Draw(image)\n",
    "\n",
    "# 提取 xy 中的 Polygon 数据\n",
    "polygons = label[\"features\"][\"xy\"]\n",
    "\n",
    "for polygon_data in polygons:\n",
    "    pattern = r\"POLYGON \\(\\(([^)]+)\\)\\)\"\n",
    "    match = re.search(pattern, polygon_data[\"wkt\"])\n",
    "    # 提取坐标点\n",
    "    if match:\n",
    "        coords_string = match.group(1)\n",
    "        coords_list = [\n",
    "            tuple(map(float, coord.split())) for coord in coords_string.split(\",\")\n",
    "        ]\n",
    "        points = []\n",
    "        for coord in coords_list:\n",
    "            (x_val, y_val) = coord\n",
    "            x = float(x_val)\n",
    "            y = float(y_val)\n",
    "            # 确保坐标在图像范围内\n",
    "            if 0 <= x < 1024 and 0 <= y < 1024:\n",
    "                points.append((x, y))\n",
    "        # 绘制 Polygon\n",
    "        if points:\n",
    "            draw.polygon(points, fill=255)\n",
    "\n",
    "# 保存或显示图像\n",
    "image.save(save_path)"
   ]
  },
  {
   "cell_type": "code",
   "execution_count": null,
   "id": "88e8e190",
   "metadata": {},
   "outputs": [],
   "source": []
  }
 ],
 "metadata": {
  "kernelspec": {
   "display_name": "torchange",
   "language": "python",
   "name": "python3"
  },
  "language_info": {
   "codemirror_mode": {
    "name": "ipython",
    "version": 3
   },
   "file_extension": ".py",
   "mimetype": "text/x-python",
   "name": "python",
   "nbconvert_exporter": "python",
   "pygments_lexer": "ipython3",
   "version": "3.10.14"
  }
 },
 "nbformat": 4,
 "nbformat_minor": 5
}
